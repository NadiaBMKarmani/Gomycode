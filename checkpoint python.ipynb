{
 "cells": [
  {
   "cell_type": "code",
   "execution_count": 7,
   "id": "bd3e4e7c",
   "metadata": {},
   "outputs": [],
   "source": [
    "import math as m\n",
    "import numpy as np\n",
    "import re"
   ]
  },
  {
   "cell_type": "code",
   "execution_count": null,
   "id": "f043dcb0",
   "metadata": {},
   "outputs": [],
   "source": [
    "# Question 1:\n",
    "l=[]\n",
    "for x in range(2000,3201):\n",
    "    if ((x%5)!=0 and (x%7)==0):\n",
    "        l.append(x)\n",
    "\n",
    "print (l)\n",
    "\n",
    "    "
   ]
  },
  {
   "cell_type": "code",
   "execution_count": null,
   "id": "3dca78f1",
   "metadata": {},
   "outputs": [],
   "source": [
    "# Question 2:\n",
    "n=input(\"donner un nombre:\")\n",
    "int_n=int (n)\n",
    "f=1\n",
    "for x in range (1,int_n+1):\n",
    "  f*=x   \n",
    "print (f)"
   ]
  },
  {
   "cell_type": "code",
   "execution_count": null,
   "id": "a7003472",
   "metadata": {},
   "outputs": [],
   "source": [
    "#Question 3:\n",
    "n=input(\"donner un nombre:\")\n",
    "int_n=int (n)\n",
    "d={i:i*i for i in range (1,int_n+1)}\n",
    "d"
   ]
  },
  {
   "cell_type": "code",
   "execution_count": null,
   "id": "ba88cf9f",
   "metadata": {
    "scrolled": true
   },
   "outputs": [],
   "source": [
    "# Question 4:\n",
    "\n",
    "ch=input(\"donner une chaine:\")\n",
    "n=input(\"donner un index valide:\")\n",
    "int_n=int(n)\n",
    "while ((int_n<0) or (int_n> len(ch)-1)):\n",
    "    n=input(\"donner un index valide:\")\n",
    "    int_n=int(n)\n",
    "ch=re.sub(ch[int_n],\"\",ch)\n",
    "ch"
   ]
  },
  {
   "cell_type": "code",
   "execution_count": null,
   "id": "6389b859",
   "metadata": {},
   "outputs": [],
   "source": [
    "# Question 5:\n",
    "\n",
    "a=np.array ([[0 , 1], [2 , 3] ,[4 , 5]])\n",
    "a\n",
    "l=a.tolist()\n",
    "l"
   ]
  },
  {
   "cell_type": "code",
   "execution_count": null,
   "id": "4a8c8ff3",
   "metadata": {},
   "outputs": [],
   "source": [
    "# Question 6\n",
    "\n",
    "a1=[0, 1, 2] \n",
    "a2=[2, 1, 0] \n",
    "data=np.array ([a1, a2] )\n",
    "np.cov(data,bias=False)\n"
   ]
  },
  {
   "cell_type": "code",
   "execution_count": 8,
   "id": "bbd4ef23",
   "metadata": {},
   "outputs": [
    {
     "name": "stdout",
     "output_type": "stream",
     "text": [
      "Donner une séquence de variable séparée par une virgule:100,150,180\n"
     ]
    },
    {
     "data": {
      "text/plain": [
       "'18,22,24'"
      ]
     },
     "execution_count": 8,
     "metadata": {},
     "output_type": "execute_result"
    }
   ],
   "source": [
    "#Question 7\n",
    "\n",
    "C=50.\n",
    "H=30.\n",
    "input_D=input(\"Donner une séquence de variable séparée par une virgule:\")\n",
    "i=0\n",
    "res=\"\"\n",
    "while  (i <len(input_D) and input_D.find(\",\",i)!=-1 ):\n",
    "    D=int(input_D[i:input_D.find(\",\",i)])\n",
    "    Q=m.sqrt((2 * C * D)/H)\n",
    "    res+=str(m.floor(Q))+\",\"\n",
    "    i=input_D.find(\",\",i)+1\n",
    "D=int(input_D[i:])\n",
    "Q=m.sqrt((2 * C * D)/H)\n",
    "res+=str(m.floor(Q))\n",
    "res"
   ]
  }
 ],
 "metadata": {
  "kernelspec": {
   "display_name": "Python 3 (ipykernel)",
   "language": "python",
   "name": "python3"
  },
  "language_info": {
   "codemirror_mode": {
    "name": "ipython",
    "version": 3
   },
   "file_extension": ".py",
   "mimetype": "text/x-python",
   "name": "python",
   "nbconvert_exporter": "python",
   "pygments_lexer": "ipython3",
   "version": "3.11.5"
  }
 },
 "nbformat": 4,
 "nbformat_minor": 5
}
