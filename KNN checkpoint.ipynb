{
 "cells": [
  {
   "cell_type": "code",
   "execution_count": 7,
   "id": "536d1ac6",
   "metadata": {},
   "outputs": [],
   "source": [
    "import pandas as pd\n",
    "import matplotlib.pyplot as plt\n",
    "import plotly.express as px\n",
    "import numpy as np\n",
    "import seaborn as sb"
   ]
  },
  {
   "cell_type": "code",
   "execution_count": 26,
   "id": "c99317c2",
   "metadata": {},
   "outputs": [
    {
     "data": {
      "text/html": [
       "<div>\n",
       "<style scoped>\n",
       "    .dataframe tbody tr th:only-of-type {\n",
       "        vertical-align: middle;\n",
       "    }\n",
       "\n",
       "    .dataframe tbody tr th {\n",
       "        vertical-align: top;\n",
       "    }\n",
       "\n",
       "    .dataframe thead th {\n",
       "        text-align: right;\n",
       "    }\n",
       "</style>\n",
       "<table border=\"1\" class=\"dataframe\">\n",
       "  <thead>\n",
       "    <tr style=\"text-align: right;\">\n",
       "      <th></th>\n",
       "      <th>0</th>\n",
       "      <th>1</th>\n",
       "      <th>2</th>\n",
       "      <th>3</th>\n",
       "      <th>4</th>\n",
       "    </tr>\n",
       "  </thead>\n",
       "  <tbody>\n",
       "    <tr>\n",
       "      <th>0</th>\n",
       "      <td>5.1</td>\n",
       "      <td>3.5</td>\n",
       "      <td>1.4</td>\n",
       "      <td>0.2</td>\n",
       "      <td>Iris-setosa</td>\n",
       "    </tr>\n",
       "    <tr>\n",
       "      <th>1</th>\n",
       "      <td>4.9</td>\n",
       "      <td>3.0</td>\n",
       "      <td>1.4</td>\n",
       "      <td>0.2</td>\n",
       "      <td>Iris-setosa</td>\n",
       "    </tr>\n",
       "    <tr>\n",
       "      <th>2</th>\n",
       "      <td>4.7</td>\n",
       "      <td>3.2</td>\n",
       "      <td>1.3</td>\n",
       "      <td>0.2</td>\n",
       "      <td>Iris-setosa</td>\n",
       "    </tr>\n",
       "    <tr>\n",
       "      <th>3</th>\n",
       "      <td>4.6</td>\n",
       "      <td>3.1</td>\n",
       "      <td>1.5</td>\n",
       "      <td>0.2</td>\n",
       "      <td>Iris-setosa</td>\n",
       "    </tr>\n",
       "    <tr>\n",
       "      <th>4</th>\n",
       "      <td>5.0</td>\n",
       "      <td>3.6</td>\n",
       "      <td>1.4</td>\n",
       "      <td>0.2</td>\n",
       "      <td>Iris-setosa</td>\n",
       "    </tr>\n",
       "  </tbody>\n",
       "</table>\n",
       "</div>"
      ],
      "text/plain": [
       "     0    1    2    3            4\n",
       "0  5.1  3.5  1.4  0.2  Iris-setosa\n",
       "1  4.9  3.0  1.4  0.2  Iris-setosa\n",
       "2  4.7  3.2  1.3  0.2  Iris-setosa\n",
       "3  4.6  3.1  1.5  0.2  Iris-setosa\n",
       "4  5.0  3.6  1.4  0.2  Iris-setosa"
      ]
     },
     "execution_count": 26,
     "metadata": {},
     "output_type": "execute_result"
    }
   ],
   "source": [
    "df = pd.read_csv(\"iris.data.txt\",sep=\",\", header=None)\n",
    "df.head()"
   ]
  },
  {
   "cell_type": "code",
   "execution_count": 75,
   "id": "e2305623",
   "metadata": {
    "scrolled": true
   },
   "outputs": [],
   "source": [
    "# 1. Handle Data\n",
    "\n",
    "#split the data into a training dataset and test dataset\n",
    "\n",
    "import csv\n",
    "import random\n",
    "\n",
    "def loadDataset(filename, split, trainingSet=[] , testSet=[]):\n",
    "\n",
    "    with open(filename, 'r') as csvfile:\n",
    "\n",
    "      lines = csv.reader(csvfile)\n",
    "\n",
    "      dataset = list(lines)\n",
    "\n",
    "      for x in range(len(dataset)-1):\n",
    "\n",
    "        for y in range(4):\n",
    "\n",
    "            dataset[x][y] = float(dataset[x][y])\n",
    "\n",
    "        if random.random() < split:\n",
    "\n",
    "            trainingSet.append(dataset[x])\n",
    "\n",
    "        else:\n",
    "\n",
    "            testSet.append(dataset[x])"
   ]
  },
  {
   "cell_type": "code",
   "execution_count": 76,
   "id": "6119b1d2",
   "metadata": {},
   "outputs": [
    {
     "name": "stdout",
     "output_type": "stream",
     "text": [
      "Train: 93\n",
      "Test: 56\n"
     ]
    }
   ],
   "source": [
    "#Test the function \" loadDataset()\"\n",
    "\n",
    "trainingSet=[]\n",
    "\n",
    "testSet=[]\n",
    "\n",
    "loadDataset('iris.data.txt', 0.66, trainingSet, testSet)\n",
    "\n",
    "print ('Train: ' + repr(len(trainingSet)))\n",
    "print ('Test: ' + repr(len(testSet)) )"
   ]
  },
  {
   "cell_type": "code",
   "execution_count": 97,
   "id": "0e3b5357",
   "metadata": {},
   "outputs": [],
   "source": [
    "# 2. Similarity\n",
    "\n",
    "import math\n",
    "\n",
    "def euclideanDistance(instance1, instance2, length):\n",
    "    d=0\n",
    "    for x in range(0,length):\n",
    "        d=d+math.pow((instance1[x]-instance2[x]),2)\n",
    "        \n",
    "    d=math.sqrt(d)   \n",
    "    \n",
    "    return (d)"
   ]
  },
  {
   "cell_type": "code",
   "execution_count": 98,
   "id": "a3b6c687",
   "metadata": {},
   "outputs": [
    {
     "name": "stdout",
     "output_type": "stream",
     "text": [
      "Distance: 3.4641016151377544\n"
     ]
    }
   ],
   "source": [
    "#Test the function \" euclideanDistance()\"\n",
    "\n",
    "data1 = [2, 2, 2, 'a']\n",
    "\n",
    "data2 = [4, 4, 4, 'b']\n",
    "\n",
    "distance = euclideanDistance(data1, data2, 3)\n",
    "\n",
    "print ('Distance: ' + repr(distance))"
   ]
  },
  {
   "cell_type": "code",
   "execution_count": 99,
   "id": "fbe677bd",
   "metadata": {},
   "outputs": [],
   "source": [
    "# 3. Neighbors\n",
    "\n",
    "import operator\n",
    "\n",
    "def getNeighbors(trainingSet, testInstance, k):\n",
    "\n",
    "    distances = []\n",
    "\n",
    "    length = len(testInstance)-1\n",
    "\n",
    "    for x in range(len(trainingSet)):\n",
    "\n",
    "        dist = euclideanDistance(testInstance, trainingSet[x], length)\n",
    "\n",
    "        distances.append((trainingSet[x], dist))\n",
    "\n",
    "        distances.sort(key=operator.itemgetter(1))\n",
    "\n",
    "    neighbors = []\n",
    "\n",
    "    for x in range(k):\n",
    "\n",
    "        neighbors.append(distances[x][0])\n",
    "\n",
    "    return neighbors"
   ]
  },
  {
   "cell_type": "code",
   "execution_count": 100,
   "id": "0c34033d",
   "metadata": {},
   "outputs": [
    {
     "name": "stdout",
     "output_type": "stream",
     "text": [
      "[[4, 4, 4, 'b']]\n"
     ]
    }
   ],
   "source": [
    "#Test the function \" Neighborse()\"\n",
    "\n",
    "trainSet = [[2, 2, 2, 'a'], [4, 4, 4, 'b']]\n",
    "testInstance = [5, 5, 5]\n",
    "k = 1\n",
    "\n",
    "neighbors = getNeighbors(trainSet, testInstance, 1)\n",
    "print(neighbors)"
   ]
  },
  {
   "cell_type": "code",
   "execution_count": 101,
   "id": "88024568",
   "metadata": {},
   "outputs": [],
   "source": [
    "# 4. Response\n",
    "\n",
    "import operator\n",
    "\n",
    "def getResponse(neighbors):\n",
    "\n",
    "    classVotes = {}\n",
    "\n",
    "    for x in range(len(neighbors)):\n",
    "\n",
    "        response = neighbors[x][-1 ] \n",
    "\n",
    "        if response in classVotes:\n",
    "\n",
    "            classVotes[response]=classVotes[response]+1\n",
    "        else:\n",
    "        \n",
    "            classVotes[response]=1\n",
    "            \n",
    "        sortedVotes = sorted(classVotes.items(), key=operator.itemgetter(1), reverse=True)\n",
    "\n",
    "    return sortedVotes[0][0]"
   ]
  },
  {
   "cell_type": "code",
   "execution_count": 102,
   "id": "50a0da4f",
   "metadata": {},
   "outputs": [
    {
     "name": "stdout",
     "output_type": "stream",
     "text": [
      "a\n"
     ]
    }
   ],
   "source": [
    "#Test the function \" getResponse()\"\n",
    "\n",
    "neighbors = [[1,1,1,'a'], [2,2,2,'a'], [3,3,3,'b']]\n",
    "\n",
    "response = getResponse(neighbors)\n",
    "\n",
    "print(response)\n"
   ]
  },
  {
   "cell_type": "code",
   "execution_count": 103,
   "id": "51348abf",
   "metadata": {},
   "outputs": [],
   "source": [
    "# 5. Accuracy\n",
    "\n",
    "def getAccuracy(testSet, predictions):\n",
    "    correct = 0\n",
    "    for x in range(len(predictions)):\n",
    "        if testSet[x][-1] == predictions[x]:\n",
    "            correct += 1\n",
    "\n",
    "    return (correct/float(len(testSet))) * 100.0"
   ]
  },
  {
   "cell_type": "code",
   "execution_count": 104,
   "id": "1da1f4d8",
   "metadata": {},
   "outputs": [
    {
     "name": "stdout",
     "output_type": "stream",
     "text": [
      "66.66666666666666\n"
     ]
    }
   ],
   "source": [
    "#Test the function \" getAccuracy()\"\n",
    "\n",
    "testSet = [[1,1,1,'a'], [2,2,2,'a'], [3,3,3,'b']]\n",
    "\n",
    "predictions = ['a', 'a', 'a']\n",
    "\n",
    "accuracy = getAccuracy(testSet, predictions)\n",
    "\n",
    "print(accuracy)\n"
   ]
  },
  {
   "cell_type": "code",
   "execution_count": 108,
   "id": "51cebc95",
   "metadata": {},
   "outputs": [
    {
     "name": "stdout",
     "output_type": "stream",
     "text": [
      "Train: 90\n",
      "Test: 59\n",
      "69.49152542372882\n"
     ]
    }
   ],
   "source": [
    "# 6. Main\n",
    "\n",
    "def main():\n",
    "    \n",
    "    trainingSet=[]\n",
    "    testSet=[]\n",
    "    loadDataset('iris.data.txt', 0.66, trainingSet, testSet)\n",
    "    print ('Train: ' + repr(len(trainingSet)))\n",
    "    print ('Test: ' + repr(len(testSet)) )\n",
    "  \n",
    "    trainingSetX = list(map(lambda x: x [0:3], trainingSet))\n",
    "    trainingSetY = list(map(lambda x: x [4], trainingSet))\n",
    "    testSetX = list(map(lambda x: x [0:3], testSet))\n",
    "    testSetY = list(map(lambda x: x [4], testSet))\n",
    "    \n",
    "    predictions = []\n",
    "    k = 1\n",
    "    \n",
    "    for x in range(len(testSetX)):\n",
    "        neighbors = getNeighbors(trainingSet, testSetX[x], k)\n",
    "        result = getResponse(neighbors)\n",
    "        predictions.append(result)\n",
    "  \n",
    "    accuracy = getAccuracy(testSet, predictions)\n",
    "    print(accuracy)\n",
    "\n",
    "main()"
   ]
  },
  {
   "cell_type": "code",
   "execution_count": 106,
   "id": "b6a951bc",
   "metadata": {},
   "outputs": [],
   "source": [
    "# 7. Another distance metric\n",
    "\n",
    "\n",
    "\n",
    "def manhattan(instance1, instance2, length):\n",
    "    d=0\n",
    "    for x in range(0,length):\n",
    "        d=d+abs((instance1[x]-instance2[x]))\n",
    " \n",
    "    return (d)"
   ]
  },
  {
   "cell_type": "code",
   "execution_count": 96,
   "id": "3d078f2b",
   "metadata": {},
   "outputs": [
    {
     "name": "stdout",
     "output_type": "stream",
     "text": [
      "Distance: 6\n"
     ]
    }
   ],
   "source": [
    "#Test the function \" manhattan()\"\n",
    "\n",
    "data1 = [2, 2, 2, 'a']\n",
    "\n",
    "data2 = [4, 4, 4, 'b']\n",
    "\n",
    "distance = manhattan(data1, data2, 3)\n",
    "\n",
    "print ('Distance: ' + repr(distance))"
   ]
  }
 ],
 "metadata": {
  "kernelspec": {
   "display_name": "Python 3 (ipykernel)",
   "language": "python",
   "name": "python3"
  },
  "language_info": {
   "codemirror_mode": {
    "name": "ipython",
    "version": 3
   },
   "file_extension": ".py",
   "mimetype": "text/x-python",
   "name": "python",
   "nbconvert_exporter": "python",
   "pygments_lexer": "ipython3",
   "version": "3.9.13"
  }
 },
 "nbformat": 4,
 "nbformat_minor": 5
}
