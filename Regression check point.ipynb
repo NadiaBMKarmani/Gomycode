{
 "cells": [
  {
   "cell_type": "code",
   "execution_count": 4,
   "id": "e389a2be",
   "metadata": {},
   "outputs": [],
   "source": [
    "import pandas as pd\n",
    "import matplotlib.pyplot as plt\n",
    "import plotly.express as px\n",
    "import numpy as np\n",
    "import seaborn as sb"
   ]
  },
  {
   "cell_type": "code",
   "execution_count": 15,
   "id": "d1f43747",
   "metadata": {},
   "outputs": [
    {
     "data": {
      "text/html": [
       "<div>\n",
       "<style scoped>\n",
       "    .dataframe tbody tr th:only-of-type {\n",
       "        vertical-align: middle;\n",
       "    }\n",
       "\n",
       "    .dataframe tbody tr th {\n",
       "        vertical-align: top;\n",
       "    }\n",
       "\n",
       "    .dataframe thead th {\n",
       "        text-align: right;\n",
       "    }\n",
       "</style>\n",
       "<table border=\"1\" class=\"dataframe\">\n",
       "  <thead>\n",
       "    <tr style=\"text-align: right;\">\n",
       "      <th></th>\n",
       "      <th>Unnamed: 0</th>\n",
       "      <th>id</th>\n",
       "      <th>date</th>\n",
       "      <th>price</th>\n",
       "      <th>bedrooms</th>\n",
       "      <th>bathrooms</th>\n",
       "      <th>sqft_living</th>\n",
       "      <th>sqft_lot</th>\n",
       "      <th>floors</th>\n",
       "      <th>waterfront</th>\n",
       "      <th>...</th>\n",
       "      <th>grade</th>\n",
       "      <th>sqft_above</th>\n",
       "      <th>sqft_basement</th>\n",
       "      <th>yr_built</th>\n",
       "      <th>yr_renovated</th>\n",
       "      <th>zipcode</th>\n",
       "      <th>lat</th>\n",
       "      <th>long</th>\n",
       "      <th>sqft_living15</th>\n",
       "      <th>sqft_lot15</th>\n",
       "    </tr>\n",
       "  </thead>\n",
       "  <tbody>\n",
       "    <tr>\n",
       "      <th>0</th>\n",
       "      <td>0</td>\n",
       "      <td>7129300520</td>\n",
       "      <td>2014-10-13</td>\n",
       "      <td>221900.0</td>\n",
       "      <td>3</td>\n",
       "      <td>1.00</td>\n",
       "      <td>1180</td>\n",
       "      <td>5650</td>\n",
       "      <td>1.0</td>\n",
       "      <td>0</td>\n",
       "      <td>...</td>\n",
       "      <td>7</td>\n",
       "      <td>1180</td>\n",
       "      <td>0</td>\n",
       "      <td>1955</td>\n",
       "      <td>0</td>\n",
       "      <td>98178</td>\n",
       "      <td>47.5112</td>\n",
       "      <td>-122.257</td>\n",
       "      <td>1340</td>\n",
       "      <td>5650</td>\n",
       "    </tr>\n",
       "    <tr>\n",
       "      <th>1</th>\n",
       "      <td>1</td>\n",
       "      <td>6414100192</td>\n",
       "      <td>2014-12-09</td>\n",
       "      <td>538000.0</td>\n",
       "      <td>3</td>\n",
       "      <td>2.25</td>\n",
       "      <td>2570</td>\n",
       "      <td>7242</td>\n",
       "      <td>2.0</td>\n",
       "      <td>0</td>\n",
       "      <td>...</td>\n",
       "      <td>7</td>\n",
       "      <td>2170</td>\n",
       "      <td>400</td>\n",
       "      <td>1951</td>\n",
       "      <td>1991</td>\n",
       "      <td>98125</td>\n",
       "      <td>47.7210</td>\n",
       "      <td>-122.319</td>\n",
       "      <td>1690</td>\n",
       "      <td>7639</td>\n",
       "    </tr>\n",
       "    <tr>\n",
       "      <th>2</th>\n",
       "      <td>2</td>\n",
       "      <td>5631500400</td>\n",
       "      <td>2015-02-25</td>\n",
       "      <td>180000.0</td>\n",
       "      <td>2</td>\n",
       "      <td>1.00</td>\n",
       "      <td>770</td>\n",
       "      <td>10000</td>\n",
       "      <td>1.0</td>\n",
       "      <td>0</td>\n",
       "      <td>...</td>\n",
       "      <td>6</td>\n",
       "      <td>770</td>\n",
       "      <td>0</td>\n",
       "      <td>1933</td>\n",
       "      <td>0</td>\n",
       "      <td>98028</td>\n",
       "      <td>47.7379</td>\n",
       "      <td>-122.233</td>\n",
       "      <td>2720</td>\n",
       "      <td>8062</td>\n",
       "    </tr>\n",
       "    <tr>\n",
       "      <th>3</th>\n",
       "      <td>3</td>\n",
       "      <td>2487200875</td>\n",
       "      <td>2014-12-09</td>\n",
       "      <td>604000.0</td>\n",
       "      <td>4</td>\n",
       "      <td>3.00</td>\n",
       "      <td>1960</td>\n",
       "      <td>5000</td>\n",
       "      <td>1.0</td>\n",
       "      <td>0</td>\n",
       "      <td>...</td>\n",
       "      <td>7</td>\n",
       "      <td>1050</td>\n",
       "      <td>910</td>\n",
       "      <td>1965</td>\n",
       "      <td>0</td>\n",
       "      <td>98136</td>\n",
       "      <td>47.5208</td>\n",
       "      <td>-122.393</td>\n",
       "      <td>1360</td>\n",
       "      <td>5000</td>\n",
       "    </tr>\n",
       "    <tr>\n",
       "      <th>4</th>\n",
       "      <td>4</td>\n",
       "      <td>1954400510</td>\n",
       "      <td>2015-02-18</td>\n",
       "      <td>510000.0</td>\n",
       "      <td>3</td>\n",
       "      <td>2.00</td>\n",
       "      <td>1680</td>\n",
       "      <td>8080</td>\n",
       "      <td>1.0</td>\n",
       "      <td>0</td>\n",
       "      <td>...</td>\n",
       "      <td>8</td>\n",
       "      <td>1680</td>\n",
       "      <td>0</td>\n",
       "      <td>1987</td>\n",
       "      <td>0</td>\n",
       "      <td>98074</td>\n",
       "      <td>47.6168</td>\n",
       "      <td>-122.045</td>\n",
       "      <td>1800</td>\n",
       "      <td>7503</td>\n",
       "    </tr>\n",
       "  </tbody>\n",
       "</table>\n",
       "<p>5 rows × 22 columns</p>\n",
       "</div>"
      ],
      "text/plain": [
       "   Unnamed: 0          id        date     price  bedrooms  bathrooms  \\\n",
       "0           0  7129300520  2014-10-13  221900.0         3       1.00   \n",
       "1           1  6414100192  2014-12-09  538000.0         3       2.25   \n",
       "2           2  5631500400  2015-02-25  180000.0         2       1.00   \n",
       "3           3  2487200875  2014-12-09  604000.0         4       3.00   \n",
       "4           4  1954400510  2015-02-18  510000.0         3       2.00   \n",
       "\n",
       "   sqft_living  sqft_lot  floors  waterfront  ...  grade  sqft_above  \\\n",
       "0         1180      5650     1.0           0  ...      7        1180   \n",
       "1         2570      7242     2.0           0  ...      7        2170   \n",
       "2          770     10000     1.0           0  ...      6         770   \n",
       "3         1960      5000     1.0           0  ...      7        1050   \n",
       "4         1680      8080     1.0           0  ...      8        1680   \n",
       "\n",
       "   sqft_basement  yr_built  yr_renovated  zipcode      lat     long  \\\n",
       "0              0      1955             0    98178  47.5112 -122.257   \n",
       "1            400      1951          1991    98125  47.7210 -122.319   \n",
       "2              0      1933             0    98028  47.7379 -122.233   \n",
       "3            910      1965             0    98136  47.5208 -122.393   \n",
       "4              0      1987             0    98074  47.6168 -122.045   \n",
       "\n",
       "   sqft_living15  sqft_lot15  \n",
       "0           1340        5650  \n",
       "1           1690        7639  \n",
       "2           2720        8062  \n",
       "3           1360        5000  \n",
       "4           1800        7503  \n",
       "\n",
       "[5 rows x 22 columns]"
      ]
     },
     "execution_count": 15,
     "metadata": {},
     "output_type": "execute_result"
    }
   ],
   "source": [
    "df = pd.read_csv(\"kc_final.csv\")\n",
    "df.head()"
   ]
  },
  {
   "cell_type": "code",
   "execution_count": 8,
   "id": "414c6eda",
   "metadata": {},
   "outputs": [
    {
     "data": {
      "text/plain": [
       "Unnamed: 0       0\n",
       "id               0\n",
       "date             0\n",
       "price            0\n",
       "bedrooms         0\n",
       "bathrooms        0\n",
       "sqft_living      0\n",
       "sqft_lot         0\n",
       "floors           0\n",
       "waterfront       0\n",
       "view             0\n",
       "condition        0\n",
       "grade            0\n",
       "sqft_above       0\n",
       "sqft_basement    0\n",
       "yr_built         0\n",
       "yr_renovated     0\n",
       "zipcode          0\n",
       "lat              0\n",
       "long             0\n",
       "sqft_living15    0\n",
       "sqft_lot15       0\n",
       "dtype: int64"
      ]
     },
     "execution_count": 8,
     "metadata": {},
     "output_type": "execute_result"
    }
   ],
   "source": [
    "#Explore this dataset using what you have learned in data preprocessing and data visualization \n",
    "df.dropna(axis=0, how='any', thresh=None,inplace=True)\n",
    "df.isnull().sum()"
   ]
  },
  {
   "cell_type": "code",
   "execution_count": 16,
   "id": "cac2731f",
   "metadata": {},
   "outputs": [
    {
     "name": "stdout",
     "output_type": "stream",
     "text": [
      "MSE 125732960406.26068\n",
      "R squared -0.00012273360729109228\n"
     ]
    },
    {
     "data": {
      "image/png": "[encoded data removed]",
      "text/plain": [
       "<Figure size 640x480 with 1 Axes>"
      ]
     },
     "metadata": {},
     "output_type": "display_data"
    }
   ],
   "source": [
    "#Split your dataset into a training set and a testing set. \n",
    "from sklearn.model_selection import train_test_split\n",
    "from sklearn.linear_model import LinearRegression\n",
    "from sklearn.metrics import mean_squared_error\n",
    "from sklearn import metrics\n",
    "\n",
    "# -----------------------------------------------------------features (month in the date). \n",
    "\n",
    "from datetime import datetime\n",
    "\n",
    "months=df['date'].apply(lambda x: datetime.strptime(x,'%Y-%m-%d').month)\n",
    "x=months.values[:,np.newaxis]\n",
    "y=df[\"price\"].values\n",
    "\n",
    "x_train,x_test,y_train,y_test=train_test_split(x,y,test_size=0.35,random_state=40) #splitting data with test size of 35%\n",
    "\n",
    "#Apply linear regression to your training set. \n",
    "\n",
    "model=LinearRegression()   #build linear regression model\n",
    "model.fit(x_train,y_train)  #fitting the training data\n",
    "predicted=model.predict(x_test) #testing our model’s performance\n",
    "\n",
    "# Measure the performance of linear regression using the testing set.\n",
    "print(\"MSE\", mean_squared_error(y_test,predicted))\n",
    "print(\"R squared\", metrics.r2_score(y_test,predicted))\n",
    "\n",
    "#Plot the linear regression. \n",
    "plt.scatter(x,y,color=\"r\")\n",
    "plt.title(\"Linear Regression\")\n",
    "plt.ylabel(\"Price\")\n",
    "plt.xlabel(\"Month\")\n",
    "plt.plot(x,model.predict(x),color=\"k\")\n",
    "plt.show()"
   ]
  },
  {
   "cell_type": "markdown",
   "id": "5b6b939d",
   "metadata": {},
   "source": [
    "MSE is not near 0 :the data points are dispersed widely around its central moment (mean).\n",
    "R squared is near 0 : none of the variance of the output around its mean.\n",
    "\n",
    "the feature \"month\" is not very correlate with the target \"Price of the house\". \n",
    "\n",
    "=> the feature \"month\" is not enough  to construct our model.\n",
    "The solution : find more significant and important features.\n"
   ]
  },
  {
   "cell_type": "code",
   "execution_count": 26,
   "id": "43229c39",
   "metadata": {},
   "outputs": [
    {
     "name": "stdout",
     "output_type": "stream",
     "text": [
      "MSE 113635389576.1048\n",
      "R squared 0.09610545961721906\n"
     ]
    }
   ],
   "source": [
    "#Split your dataset into a training set and a testing set. \n",
    "from sklearn.model_selection import train_test_split\n",
    "from sklearn.linear_model import LinearRegression\n",
    "from sklearn.metrics import mean_squared_error\n",
    "from sklearn import metrics\n",
    "\n",
    "# -----------------------------------------------------------features (bedrooms). \n",
    "\n",
    "x=df[\"bedrooms\"].values[:,np.newaxis]\n",
    "y=df[\"price\"].values\n",
    "\n",
    "x_train,x_test,y_train,y_test=train_test_split(x,y,test_size=0.35,random_state=40) #splitting data with test size of 35%\n",
    "\n",
    "#Apply linear regression to your training set. \n",
    "\n",
    "model=LinearRegression()   #build linear regression model\n",
    "model.fit(x_train,y_train)  #fitting the training data\n",
    "predicted=model.predict(x_test) #testing our model’s performance\n",
    "\n",
    "# Measure the performance of linear regression using the testing set. \n",
    "print(\"MSE\", mean_squared_error(y_test,predicted))\n",
    "print(\"R squared\", metrics.r2_score(y_test,predicted))"
   ]
  },
  {
   "cell_type": "markdown",
   "id": "02b1dbc0",
   "metadata": {},
   "source": [
    "MSE is not near 0 :the data points are dispersed widely around its central moment (mean).\n",
    "R squared is near 0 : none of the variance of the output around its mean.\n",
    "\n",
    "the feature \"bedrooms\" is not very correlate with the target \"Price of the house\". \n",
    "\n",
    "=> the feature \"bedrooms\" is not enough  to construct our model.\n",
    "The solution : find more significant and important features."
   ]
  },
  {
   "cell_type": "code",
   "execution_count": 36,
   "id": "03f68f02",
   "metadata": {},
   "outputs": [
    {
     "name": "stdout",
     "output_type": "stream",
     "text": [
      "MSE 89550909069.11131\n",
      "R squared 0.2876816096127013\n"
     ]
    }
   ],
   "source": [
    "#Split your dataset into a training set and a testing set. \n",
    "from sklearn.model_selection import train_test_split\n",
    "from sklearn.linear_model import LinearRegression\n",
    "from sklearn.metrics import mean_squared_error\n",
    "from sklearn import metrics\n",
    "\n",
    "# -----------------------------------------------------------features (bedrooms). \n",
    "\n",
    "x=df[\"bathrooms\"].values[:,np.newaxis]\n",
    "y=df[\"price\"].values\n",
    "\n",
    "x_train,x_test,y_train,y_test=train_test_split(x,y,test_size=0.35,random_state=40) #splitting data with test size of 35%\n",
    "\n",
    "#Apply linear regression to your training set. \n",
    "\n",
    "model=LinearRegression()   #build linear regression model\n",
    "model.fit(x_train,y_train)  #fitting the training data\n",
    "predicted=model.predict(x_test) #testing our model’s performance\n",
    "\n",
    "# Measure the performance of linear regression using the testing set. \n",
    "print(\"MSE\", mean_squared_error(y_test,predicted))\n",
    "print(\"R squared\", metrics.r2_score(y_test,predicted))"
   ]
  },
  {
   "cell_type": "markdown",
   "id": "ea3a4ee2",
   "metadata": {},
   "source": [
    "MSE is not near 0 :the data points are dispersed widely around its central moment (mean).\n",
    "R squared is near 0 : none of the variance of the output around its mean.\n",
    "\n",
    "the feature \"bathrooms\" is not very correlate with the target \"Price of the house\". \n",
    "\n",
    "=> the feature \"bathrooms\" is not enough  to construct our model.\n",
    "The solution : find more significant and important features."
   ]
  },
  {
   "cell_type": "code",
   "execution_count": 27,
   "id": "849924e2",
   "metadata": {},
   "outputs": [
    {
     "name": "stdout",
     "output_type": "stream",
     "text": [
      "MSE 62902408306.86502\n",
      "R squared 0.4996528488387417\n"
     ]
    }
   ],
   "source": [
    "#Split your dataset into a training set and a testing set. \n",
    "from sklearn.model_selection import train_test_split\n",
    "from sklearn.linear_model import LinearRegression\n",
    "from sklearn.metrics import mean_squared_error\n",
    "from sklearn import metrics\n",
    "\n",
    "# -----------------------------------------------------------features (sqft_living). \n",
    "\n",
    "x=df[\"sqft_living\"].values[:,np.newaxis]\n",
    "y=df[\"price\"].values\n",
    "\n",
    "x_train,x_test,y_train,y_test=train_test_split(x,y,test_size=0.35,random_state=40) #splitting data with test size of 35%\n",
    "\n",
    "#Apply linear regression to your training set. \n",
    "\n",
    "model=LinearRegression()   #build linear regression model\n",
    "model.fit(x_train,y_train)  #fitting the training data\n",
    "predicted=model.predict(x_test) #testing our model’s performance\n",
    "# Measure the performance of linear regression using the testing set. \n",
    "print(\"MSE\", mean_squared_error(y_test,predicted))\n",
    "print(\"R squared\", metrics.r2_score(y_test,predicted))"
   ]
  },
  {
   "cell_type": "markdown",
   "id": "36106819",
   "metadata": {},
   "source": [
    "MSE is not near 0 :the data points are dispersed widely around its central moment (mean).\n",
    "R squared is near 0.5 : Half of the output variance can be explained by the model's input (sqft_living).\n",
    "\n",
    "the feature \"sqft_living\" is correlate with the target \"Price of the house\".  \n",
    "\n",
    "=> the feature \"sqft_living\" is acceptable  to construct our model.\n"
   ]
  },
  {
   "cell_type": "code",
   "execution_count": 28,
   "id": "c06e4a46",
   "metadata": {},
   "outputs": [
    {
     "name": "stdout",
     "output_type": "stream",
     "text": [
      "MSE 124884129192.88837\n",
      "R squared 0.006629158583476458\n"
     ]
    }
   ],
   "source": [
    "#Split your dataset into a training set and a testing set. \n",
    "from sklearn.model_selection import train_test_split\n",
    "from sklearn.linear_model import LinearRegression\n",
    "from sklearn.metrics import mean_squared_error\n",
    "from sklearn import metrics\n",
    "\n",
    "# -----------------------------------------------------------features (sqft_lot). \n",
    "\n",
    "x=df[\"sqft_lot\"].values[:,np.newaxis]\n",
    "y=df[\"price\"].values\n",
    "\n",
    "x_train,x_test,y_train,y_test=train_test_split(x,y,test_size=0.35,random_state=40) #splitting data with test size of 35%\n",
    "\n",
    "#Apply linear regression to your training set. \n",
    "\n",
    "model=LinearRegression()   #build linear regression model\n",
    "model.fit(x_train,y_train)  #fitting the training data\n",
    "predicted=model.predict(x_test) #testing our model’s performance\n",
    "\n",
    "# Measure the performance of linear regression using the testing set. \n",
    "print(\"MSE\", mean_squared_error(y_test,predicted))\n",
    "print(\"R squared\", metrics.r2_score(y_test,predicted))"
   ]
  },
  {
   "cell_type": "markdown",
   "id": "1e4008ba",
   "metadata": {},
   "source": [
    "MSE is not near 0 :the data points are dispersed widely around its central moment (mean).\n",
    "R squared is near 0 : none of the variance of the output around its mean.\n",
    "\n",
    "the feature \"sqft_lot\" is not very correlate with the target \"Price of the house\". \n",
    "\n",
    "=> the feature \"sqft_lot\" is not enough  to construct our model.\n",
    "The solution : find more significant and important features."
   ]
  },
  {
   "cell_type": "code",
   "execution_count": 29,
   "id": "d1c3d433",
   "metadata": {
    "scrolled": true
   },
   "outputs": [
    {
     "name": "stdout",
     "output_type": "stream",
     "text": [
      "MSE 117258331522.09335\n",
      "R squared 0.06728734707922635\n"
     ]
    }
   ],
   "source": [
    "#Split your dataset into a training set and a testing set. \n",
    "from sklearn.model_selection import train_test_split\n",
    "from sklearn.linear_model import LinearRegression\n",
    "from sklearn.metrics import mean_squared_error\n",
    "from sklearn import metrics\n",
    "\n",
    "# -----------------------------------------------------------features (floors). \n",
    "\n",
    "x=df[\"floors\"].values[:,np.newaxis]\n",
    "y=df[\"price\"].values\n",
    "\n",
    "x_train,x_test,y_train,y_test=train_test_split(x,y,test_size=0.35,random_state=40) #splitting data with test size of 35%\n",
    "\n",
    "#Apply linear regression to your training set. \n",
    "\n",
    "model=LinearRegression()   #build linear regression model\n",
    "model.fit(x_train,y_train)  #fitting the training data\n",
    "predicted=model.predict(x_test) #testing our model’s performance\n",
    "\n",
    "# Measure the performance of linear regression using the testing set. \n",
    "print(\"MSE\", mean_squared_error(y_test,predicted))\n",
    "print(\"R squared\", metrics.r2_score(y_test,predicted))\n"
   ]
  },
  {
   "cell_type": "markdown",
   "id": "edb6b3c9",
   "metadata": {},
   "source": [
    "MSE is not near 0 :the data points are dispersed widely around its central moment (mean).\n",
    "R squared is near 0 : none of the variance of the output around its mean.\n",
    "\n",
    "the feature \"floors\" is not very correlate with the target \"Price of the house\". \n",
    "\n",
    "=> the feature \"floors\" is not enough  to construct our model.\n",
    "The solution : find more significant and important features."
   ]
  },
  {
   "cell_type": "code",
   "execution_count": 30,
   "id": "7f079b10",
   "metadata": {
    "scrolled": true
   },
   "outputs": [
    {
     "name": "stdout",
     "output_type": "stream",
     "text": [
      "MSE 118566864869.79541\n",
      "R squared 0.05687882774991526\n"
     ]
    }
   ],
   "source": [
    "#Split your dataset into a training set and a testing set. \n",
    "from sklearn.model_selection import train_test_split\n",
    "from sklearn.linear_model import LinearRegression\n",
    "from sklearn.metrics import mean_squared_error\n",
    "from sklearn import metrics\n",
    "\n",
    "# -----------------------------------------------------------features (waterfront). \n",
    "\n",
    "x=df[\"waterfront\"].values[:,np.newaxis]\n",
    "y=df[\"price\"].values\n",
    "\n",
    "x_train,x_test,y_train,y_test=train_test_split(x,y,test_size=0.35,random_state=40) #splitting data with test size of 35%\n",
    "\n",
    "#Apply linear regression to your training set. \n",
    "\n",
    "model=LinearRegression()   #build linear regression model\n",
    "model.fit(x_train,y_train)  #fitting the training data\n",
    "predicted=model.predict(x_test) #testing our model’s performance\n",
    "\n",
    "# Measure the performance of linear regression using the testing set. \n",
    "print(\"MSE\", mean_squared_error(y_test,predicted))\n",
    "print(\"R squared\", metrics.r2_score(y_test,predicted))\n"
   ]
  },
  {
   "cell_type": "markdown",
   "id": "9210d03d",
   "metadata": {},
   "source": [
    "MSE is not near 0 :the data points are dispersed widely around its central moment (mean).\n",
    "R squared is near 0 : none of the variance of the output around its mean.\n",
    "\n",
    "the feature \"waterfront\" is not very correlate with the target \"Price of the house\". \n",
    "\n",
    "=> the feature \"waterfront\" is not enough  to construct our model.\n",
    "The solution : find more significant and important features."
   ]
  },
  {
   "cell_type": "code",
   "execution_count": 31,
   "id": "8178545e",
   "metadata": {},
   "outputs": [
    {
     "name": "stdout",
     "output_type": "stream",
     "text": [
      "MSE 106764161864.068\n",
      "R squared 0.15076154200322023\n"
     ]
    }
   ],
   "source": [
    "#Split your dataset into a training set and a testing set. \n",
    "from sklearn.model_selection import train_test_split\n",
    "from sklearn.linear_model import LinearRegression\n",
    "from sklearn.metrics import mean_squared_error\n",
    "from sklearn import metrics\n",
    "\n",
    "# -----------------------------------------------------------features (view). \n",
    "\n",
    "x=df[\"view\"].values[:,np.newaxis]\n",
    "y=df[\"price\"].values\n",
    "\n",
    "x_train,x_test,y_train,y_test=train_test_split(x,y,test_size=0.35,random_state=40) #splitting data with test size of 35%\n",
    "\n",
    "#Apply linear regression to your training set. \n",
    "\n",
    "model=LinearRegression()   #build linear regression model\n",
    "model.fit(x_train,y_train)  #fitting the training data\n",
    "predicted=model.predict(x_test) #testing our model’s performance\n",
    "\n",
    "# Measure the performance of linear regression using the testing set. \n",
    "print(\"MSE\", mean_squared_error(y_test,predicted))\n",
    "print(\"R squared\", metrics.r2_score(y_test,predicted))"
   ]
  },
  {
   "cell_type": "markdown",
   "id": "7eefba88",
   "metadata": {},
   "source": [
    "MSE is not near 0 :the data points are dispersed widely around its central moment (mean).\n",
    "R squared is near 0 : none of the variance of the output around its mean.\n",
    "\n",
    "the feature \"view\" is not very correlate with the target \"Price of the house\". \n",
    "\n",
    "=> the feature \"view\" is not enough  to construct our model.\n",
    "The solution : find more significant and important features."
   ]
  },
  {
   "cell_type": "code",
   "execution_count": 32,
   "id": "003eddbb",
   "metadata": {
    "scrolled": true
   },
   "outputs": [
    {
     "name": "stdout",
     "output_type": "stream",
     "text": [
      "MSE 125447690427.73447\n",
      "R squared 0.0021464008330169815\n"
     ]
    }
   ],
   "source": [
    "#Split your dataset into a training set and a testing set. \n",
    "from sklearn.model_selection import train_test_split\n",
    "from sklearn.linear_model import LinearRegression\n",
    "from sklearn.metrics import mean_squared_error\n",
    "from sklearn import metrics\n",
    "\n",
    "# -----------------------------------------------------------features (condition). \n",
    "\n",
    "x=df[\"condition\"].values[:,np.newaxis]\n",
    "y=df[\"price\"].values\n",
    "\n",
    "x_train,x_test,y_train,y_test=train_test_split(x,y,test_size=0.35,random_state=40) #splitting data with test size of 35%\n",
    "\n",
    "#Apply linear regression to your training set. \n",
    "\n",
    "model=LinearRegression()   #build linear regression model\n",
    "model.fit(x_train,y_train)  #fitting the training data\n",
    "predicted=model.predict(x_test) #testing our model’s performance\n",
    "\n",
    "# Measure the performance of linear regression using the testing set. \n",
    "print(\"MSE\", mean_squared_error(y_test,predicted))\n",
    "print(\"R squared\", metrics.r2_score(y_test,predicted))"
   ]
  },
  {
   "cell_type": "markdown",
   "id": "c8e72665",
   "metadata": {},
   "source": [
    "MSE is not near 0 :the data points are dispersed widely around its central moment (mean).\n",
    "R squared is near 0 : none of the variance of the output around its mean.\n",
    "\n",
    "the feature \"condition\" is not very correlate with the target \"Price of the house\". \n",
    "\n",
    "=> the feature \"condition\" is not enough  to construct our model.\n",
    "The solution : find more significant and important features."
   ]
  },
  {
   "cell_type": "code",
   "execution_count": 33,
   "id": "9ea9a15d",
   "metadata": {
    "scrolled": true
   },
   "outputs": [
    {
     "name": "stdout",
     "output_type": "stream",
     "text": [
      "MSE 68216329489.98443\n",
      "R squared 0.45738411228260756\n"
     ]
    }
   ],
   "source": [
    "#Split your dataset into a training set and a testing set. \n",
    "from sklearn.model_selection import train_test_split\n",
    "from sklearn.linear_model import LinearRegression\n",
    "from sklearn.metrics import mean_squared_error\n",
    "from sklearn import metrics\n",
    "\n",
    "# -----------------------------------------------------------features (grade). \n",
    "\n",
    "x=df[\"grade\"].values[:,np.newaxis]\n",
    "y=df[\"price\"].values\n",
    "\n",
    "x_train,x_test,y_train,y_test=train_test_split(x,y,test_size=0.35,random_state=40) #splitting data with test size of 35%\n",
    "\n",
    "#Apply linear regression to your training set. \n",
    "\n",
    "model=LinearRegression()   #build linear regression model\n",
    "model.fit(x_train,y_train)  #fitting the training data\n",
    "predicted=model.predict(x_test) #testing our model’s performance\n",
    "\n",
    "# Measure the performance of linear regression using the testing set. \n",
    "print(\"MSE\", mean_squared_error(y_test,predicted))\n",
    "print(\"R squared\", metrics.r2_score(y_test,predicted))"
   ]
  },
  {
   "cell_type": "markdown",
   "id": "f3c8b4c1",
   "metadata": {},
   "source": [
    "MSE is not near 0 :the data points are dispersed widely around its central moment (mean).\n",
    "R squared is near 0.5 : Half of the output variance can be explained by the model's input (grade).\n",
    "\n",
    "the feature \"grade\" is correlate with the target \"Price of the house\".  \n",
    "\n",
    "=> the feature \"grade\" is acceptable  to construct our model."
   ]
  },
  {
   "cell_type": "code",
   "execution_count": 34,
   "id": "266146c4",
   "metadata": {
    "scrolled": true
   },
   "outputs": [
    {
     "name": "stdout",
     "output_type": "stream",
     "text": [
      "MSE 112566850489.23206\n",
      "R squared 0.1046049829647675\n"
     ]
    }
   ],
   "source": [
    "#Split your dataset into a training set and a testing set. \n",
    "from sklearn.model_selection import train_test_split\n",
    "from sklearn.linear_model import LinearRegression\n",
    "from sklearn.metrics import mean_squared_error\n",
    "from sklearn import metrics\n",
    "\n",
    "# -----------------------------------------------------------features (sqft_basement). \n",
    "\n",
    "x=df[\"sqft_basement\"].values[:,np.newaxis]\n",
    "y=df[\"price\"].values\n",
    "\n",
    "x_train,x_test,y_train,y_test=train_test_split(x,y,test_size=0.35,random_state=40) #splitting data with test size of 35%\n",
    "\n",
    "#Apply linear regression to your training set. \n",
    "\n",
    "model=LinearRegression()   #build linear regression model\n",
    "model.fit(x_train,y_train)  #fitting the training data\n",
    "predicted=model.predict(x_test) #testing our model’s performance\n",
    "\n",
    "# Measure the performance of linear regression using the testing set. \n",
    "print(\"MSE\", mean_squared_error(y_test,predicted))\n",
    "print(\"R squared\", metrics.r2_score(y_test,predicted))"
   ]
  },
  {
   "cell_type": "markdown",
   "id": "94a97f99",
   "metadata": {},
   "source": [
    "MSE is not near 0 :the data points are dispersed widely around its central moment (mean).\n",
    "R squared is near 0 : none of the variance of the output around its mean.\n",
    "\n",
    "the feature \"sqft_basement\" is not very correlate with the target \"Price of the house\". \n",
    "\n",
    "=> the feature \"sqft_basement\" is not enough  to construct our model.\n",
    "The solution : find more significant and important features."
   ]
  },
  {
   "cell_type": "code",
   "execution_count": 35,
   "id": "6cc2b01c",
   "metadata": {
    "scrolled": true
   },
   "outputs": [
    {
     "name": "stdout",
     "output_type": "stream",
     "text": [
      "MSE 79241092180.49612\n",
      "R squared 0.3696893999034565\n"
     ]
    }
   ],
   "source": [
    "#Split your dataset into a training set and a testing set. \n",
    "from sklearn.model_selection import train_test_split\n",
    "from sklearn.linear_model import LinearRegression\n",
    "from sklearn.metrics import mean_squared_error\n",
    "from sklearn import metrics\n",
    "\n",
    "# -----------------------------------------------------------features (sqft_above). \n",
    "\n",
    "x=df[\"sqft_above\"].values[:,np.newaxis]\n",
    "y=df[\"price\"].values\n",
    "\n",
    "x_train,x_test,y_train,y_test=train_test_split(x,y,test_size=0.35,random_state=40) #splitting data with test size of 35%\n",
    "\n",
    "#Apply linear regression to your training set. \n",
    "\n",
    "model=LinearRegression()   #build linear regression model\n",
    "model.fit(x_train,y_train)  #fitting the training data\n",
    "predicted=model.predict(x_test) #testing our model’s performance\n",
    "\n",
    "# Measure the performance of linear regression using the testing set. \n",
    "print(\"MSE\", mean_squared_error(y_test,predicted))\n",
    "print(\"R squared\", metrics.r2_score(y_test,predicted))"
   ]
  },
  {
   "cell_type": "markdown",
   "id": "c3da3b9c",
   "metadata": {},
   "source": [
    "MSE is not near 0 :the data points are dispersed widely around its central moment (mean).\n",
    "R squared is near 0.5 : Half of the output variance can be explained by the model's input (sqft_above).\n",
    "\n",
    "the feature \"sqft_above\" is correlate with the target \"Price of the house\".  \n",
    "\n",
    "=> the feature \"sqft_above\" is acceptable  to construct our model."
   ]
  },
  {
   "cell_type": "code",
   "execution_count": 38,
   "id": "33eb0d5c",
   "metadata": {
    "scrolled": true
   },
   "outputs": [
    {
     "name": "stdout",
     "output_type": "stream",
     "text": [
      "MSE 125178068503.77393\n",
      "R squared 0.004291065324814269\n"
     ]
    }
   ],
   "source": [
    "#Split your dataset into a training set and a testing set. \n",
    "from sklearn.model_selection import train_test_split\n",
    "from sklearn.linear_model import LinearRegression\n",
    "from sklearn.metrics import mean_squared_error\n",
    "from sklearn import metrics\n",
    "\n",
    "# -----------------------------------------------------------features (yr_built). \n",
    "\n",
    "x=df[\"yr_built\"].values[:,np.newaxis]\n",
    "y=df[\"price\"].values\n",
    "\n",
    "x_train,x_test,y_train,y_test=train_test_split(x,y,test_size=0.35,random_state=40) #splitting data with test size of 35%\n",
    "\n",
    "#Apply linear regression to your training set. \n",
    "\n",
    "model=LinearRegression()   #build linear regression model\n",
    "model.fit(x_train,y_train)  #fitting the training data\n",
    "predicted=model.predict(x_test) #testing our model’s performance\n",
    "\n",
    "# Measure the performance of linear regression using the testing set. \n",
    "print(\"MSE\", mean_squared_error(y_test,predicted))\n",
    "print(\"R squared\", metrics.r2_score(y_test,predicted))"
   ]
  },
  {
   "cell_type": "markdown",
   "id": "2ed5d56a",
   "metadata": {},
   "source": [
    "MSE is not near 0 :the data points are dispersed widely around its central moment (mean).\n",
    "R squared is near 0 : none of the variance of the output around its mean.\n",
    "\n",
    "the feature \"yr_built\" is not very correlate with the target \"Price of the house\". \n",
    "\n",
    "=> the feature \"yr_built\" is not enough  to construct our model.\n",
    "The solution : find more significant and important features."
   ]
  },
  {
   "cell_type": "code",
   "execution_count": 39,
   "id": "67cb3cd9",
   "metadata": {
    "scrolled": true
   },
   "outputs": [
    {
     "name": "stdout",
     "output_type": "stream",
     "text": [
      "MSE 124484122026.30809\n",
      "R squared 0.009810951644024235\n"
     ]
    }
   ],
   "source": [
    "#Split your dataset into a training set and a testing set. \n",
    "from sklearn.model_selection import train_test_split\n",
    "from sklearn.linear_model import LinearRegression\n",
    "from sklearn.metrics import mean_squared_error\n",
    "from sklearn import metrics\n",
    "\n",
    "# -----------------------------------------------------------features (yr_renovated). \n",
    "\n",
    "x=df[\"yr_renovated\"].values[:,np.newaxis]\n",
    "y=df[\"price\"].values\n",
    "\n",
    "x_train,x_test,y_train,y_test=train_test_split(x,y,test_size=0.35,random_state=40) #splitting data with test size of 35%\n",
    "\n",
    "#Apply linear regression to your training set. \n",
    "\n",
    "model=LinearRegression()   #build linear regression model\n",
    "model.fit(x_train,y_train)  #fitting the training data\n",
    "predicted=model.predict(x_test) #testing our model’s performance\n",
    "\n",
    "# Measure the performance of linear regression using the testing set. \n",
    "print(\"MSE\", mean_squared_error(y_test,predicted))\n",
    "print(\"R squared\", metrics.r2_score(y_test,predicted))"
   ]
  },
  {
   "cell_type": "markdown",
   "id": "78b5d849",
   "metadata": {},
   "source": [
    "MSE is not near 0 :the data points are dispersed widely around its central moment (mean).\n",
    "R squared is near 0 : none of the variance of the output around its mean.\n",
    "\n",
    "the feature \"yr_renovated\" is not very correlate with the target \"Price of the house\". \n",
    "\n",
    "=> the feature \"yr_renovated\" is not enough  to construct our model.\n",
    "The solution : find more significant and important features."
   ]
  },
  {
   "cell_type": "code",
   "execution_count": 40,
   "id": "5fd999df",
   "metadata": {},
   "outputs": [
    {
     "name": "stdout",
     "output_type": "stream",
     "text": [
      "MSE 125312887316.20615\n",
      "R squared 0.0032186706337505866\n"
     ]
    }
   ],
   "source": [
    "#Split your dataset into a training set and a testing set. \n",
    "from sklearn.model_selection import train_test_split\n",
    "from sklearn.linear_model import LinearRegression\n",
    "from sklearn.metrics import mean_squared_error\n",
    "from sklearn import metrics\n",
    "\n",
    "# -----------------------------------------------------------features (zipcode). \n",
    "\n",
    "x=df[\"zipcode\"].values[:,np.newaxis]\n",
    "y=df[\"price\"].values\n",
    "\n",
    "x_train,x_test,y_train,y_test=train_test_split(x,y,test_size=0.35,random_state=40) #splitting data with test size of 35%\n",
    "\n",
    "#Apply linear regression to your training set. \n",
    "\n",
    "model=LinearRegression()   #build linear regression model\n",
    "model.fit(x_train,y_train)  #fitting the training data\n",
    "predicted=model.predict(x_test) #testing our model’s performance\n",
    "\n",
    "# Measure the performance of linear regression using the testing set. \n",
    "print(\"MSE\", mean_squared_error(y_test,predicted))\n",
    "print(\"R squared\", metrics.r2_score(y_test,predicted))"
   ]
  },
  {
   "cell_type": "markdown",
   "id": "89845bd0",
   "metadata": {},
   "source": [
    "MSE is not near 0 :the data points are dispersed widely around its central moment (mean).\n",
    "R squared is near 0 : none of the variance of the output around its mean.\n",
    "\n",
    "the feature \"zipcode\" is not very correlate with the target \"Price of the house\". \n",
    "\n",
    "=> the feature \"zipcode\" is not enough  to construct our model.\n",
    "The solution : find more significant and important features."
   ]
  },
  {
   "cell_type": "code",
   "execution_count": 41,
   "id": "74db97d8",
   "metadata": {},
   "outputs": [
    {
     "name": "stdout",
     "output_type": "stream",
     "text": [
      "MSE 113502118121.8914\n",
      "R squared 0.09716554609469508\n"
     ]
    }
   ],
   "source": [
    "#Split your dataset into a training set and a testing set. \n",
    "from sklearn.model_selection import train_test_split\n",
    "from sklearn.linear_model import LinearRegression\n",
    "from sklearn.metrics import mean_squared_error\n",
    "from sklearn import metrics\n",
    "\n",
    "# -----------------------------------------------------------features (lat). \n",
    "\n",
    "x=df[\"lat\"].values[:,np.newaxis]\n",
    "y=df[\"price\"].values\n",
    "\n",
    "x_train,x_test,y_train,y_test=train_test_split(x,y,test_size=0.35,random_state=40) #splitting data with test size of 35%\n",
    "\n",
    "#Apply linear regression to your training set. \n",
    "\n",
    "model=LinearRegression()   #build linear regression model\n",
    "model.fit(x_train,y_train)  #fitting the training data\n",
    "predicted=model.predict(x_test) #testing our model’s performance\n",
    "\n",
    "# Measure the performance of linear regression using the testing set. \n",
    "print(\"MSE\", mean_squared_error(y_test,predicted))\n",
    "print(\"R squared\", metrics.r2_score(y_test,predicted))"
   ]
  },
  {
   "cell_type": "markdown",
   "id": "fcc85f6c",
   "metadata": {},
   "source": [
    "MSE is not near 0 :the data points are dispersed widely around its central moment (mean).\n",
    "R squared is near 0 : none of the variance of the output around its mean.\n",
    "\n",
    "the feature \"lat\" is not very correlate with the target \"Price of the house\". \n",
    "\n",
    "=> the feature \"lat\" is not enough  to construct our model.\n",
    "The solution : find more significant and important features."
   ]
  },
  {
   "cell_type": "code",
   "execution_count": 42,
   "id": "e261aa33",
   "metadata": {},
   "outputs": [
    {
     "name": "stdout",
     "output_type": "stream",
     "text": [
      "MSE 125632797217.05615\n",
      "R squared 0.0006739984689312362\n"
     ]
    }
   ],
   "source": [
    "#Split your dataset into a training set and a testing set. \n",
    "from sklearn.model_selection import train_test_split\n",
    "from sklearn.linear_model import LinearRegression\n",
    "from sklearn.metrics import mean_squared_error\n",
    "from sklearn import metrics\n",
    "\n",
    "# -----------------------------------------------------------features (long). \n",
    "\n",
    "x=df[\"long\"].values[:,np.newaxis]\n",
    "y=df[\"price\"].values\n",
    "\n",
    "x_train,x_test,y_train,y_test=train_test_split(x,y,test_size=0.35,random_state=40) #splitting data with test size of 35%\n",
    "\n",
    "#Apply linear regression to your training set. \n",
    "\n",
    "model=LinearRegression()   #build linear regression model\n",
    "model.fit(x_train,y_train)  #fitting the training data\n",
    "predicted=model.predict(x_test) #testing our model’s performance\n",
    "\n",
    "# Measure the performance of linear regression using the testing set. \n",
    "print(\"MSE\", mean_squared_error(y_test,predicted))\n",
    "print(\"R squared\", metrics.r2_score(y_test,predicted))"
   ]
  },
  {
   "cell_type": "markdown",
   "id": "ef93fa84",
   "metadata": {},
   "source": [
    "MSE is not near 0 :the data points are dispersed widely around its central moment (mean).\n",
    "R squared is near 0 : none of the variance of the output around its mean.\n",
    "\n",
    "the feature \"long\" is not very correlate with the target \"Price of the house\". \n",
    "\n",
    "=> the feature \"long\" is not enough  to construct our model.\n",
    "The solution : find more significant and important features."
   ]
  },
  {
   "cell_type": "code",
   "execution_count": 43,
   "id": "e92ae53c",
   "metadata": {
    "scrolled": true
   },
   "outputs": [
    {
     "name": "stdout",
     "output_type": "stream",
     "text": [
      "MSE 80478264938.9221\n",
      "R squared 0.35984850697368287\n"
     ]
    }
   ],
   "source": [
    "#Split your dataset into a training set and a testing set. \n",
    "from sklearn.model_selection import train_test_split\n",
    "from sklearn.linear_model import LinearRegression\n",
    "from sklearn.metrics import mean_squared_error\n",
    "from sklearn import metrics\n",
    "\n",
    "# -----------------------------------------------------------features (sqft_living15). \n",
    "\n",
    "x=df[\"sqft_living15\"].values[:,np.newaxis]\n",
    "y=df[\"price\"].values\n",
    "\n",
    "x_train,x_test,y_train,y_test=train_test_split(x,y,test_size=0.35,random_state=40) #splitting data with test size of 35%\n",
    "\n",
    "#Apply linear regression to your training set. \n",
    "\n",
    "model=LinearRegression()   #build linear regression model\n",
    "model.fit(x_train,y_train)  #fitting the training data\n",
    "predicted=model.predict(x_test) #testing our model’s performance\n",
    "\n",
    "# Measure the performance of linear regression using the testing set. \n",
    "print(\"MSE\", mean_squared_error(y_test,predicted))\n",
    "print(\"R squared\", metrics.r2_score(y_test,predicted))"
   ]
  },
  {
   "cell_type": "markdown",
   "id": "6179c412",
   "metadata": {},
   "source": [
    "MSE is not near 0 :the data points are dispersed widely around its central moment (mean).\n",
    "R squared is near 0.5 : Half of the output variance can be explained by the model's input (sqft_above).\n",
    "\n",
    "the feature \"sqft_living15\" is correlate with the target \"Price of the house\".  \n",
    "\n",
    "=> the feature \"sqft_living15\" is acceptable  to construct our model."
   ]
  },
  {
   "cell_type": "code",
   "execution_count": 44,
   "id": "a00abe8f",
   "metadata": {
    "scrolled": true
   },
   "outputs": [
    {
     "name": "stdout",
     "output_type": "stream",
     "text": [
      "MSE 124922791582.09825\n",
      "R squared 0.006321624789159985\n"
     ]
    }
   ],
   "source": [
    "#Split your dataset into a training set and a testing set. \n",
    "from sklearn.model_selection import train_test_split\n",
    "from sklearn.linear_model import LinearRegression\n",
    "from sklearn.metrics import mean_squared_error\n",
    "from sklearn import metrics\n",
    "\n",
    "# -----------------------------------------------------------features (sqft_lot15). \n",
    "\n",
    "x=df[\"sqft_lot15\"].values[:,np.newaxis]\n",
    "y=df[\"price\"].values\n",
    "\n",
    "x_train,x_test,y_train,y_test=train_test_split(x,y,test_size=0.35,random_state=40) #splitting data with test size of 35%\n",
    "\n",
    "#Apply linear regression to your training set. \n",
    "\n",
    "model=LinearRegression()   #build linear regression model\n",
    "model.fit(x_train,y_train)  #fitting the training data\n",
    "predicted=model.predict(x_test) #testing our model’s performance\n",
    "\n",
    "# Measure the performance of linear regression using the testing set. \n",
    "print(\"MSE\", mean_squared_error(y_test,predicted))\n",
    "print(\"R squared\", metrics.r2_score(y_test,predicted))"
   ]
  },
  {
   "cell_type": "markdown",
   "id": "d6db9408",
   "metadata": {},
   "source": [
    "MSE is not near 0 :the data points are dispersed widely around its central moment (mean).\n",
    "R squared is near 0 : none of the variance of the output around its mean.\n",
    "\n",
    "the feature \"sqft_lot15\" is not very correlate with the target \"Price of the house\". \n",
    "\n",
    "=> the feature \"sqft_lot15\" is not enough  to construct our model.\n",
    "The solution : find more significant and important features."
   ]
  },
  {
   "cell_type": "markdown",
   "id": "fdc5a2fb",
   "metadata": {},
   "source": [
    "#Write a paragraph selecting the most important features (feature selection). \n",
    "According to R squared the features can be classified according to their correlation as:\n",
    "\n",
    "sqft_living - grade- sqft_above- sqft_living15- bathrooms-view - sqft_basement - lat- bedrooms- floors- waterfont -..."
   ]
  },
  {
   "cell_type": "code",
   "execution_count": 46,
   "id": "95fa6d51",
   "metadata": {},
   "outputs": [
    {
     "name": "stdout",
     "output_type": "stream",
     "text": [
      "MSE 57413775762.864265\n",
      "R squared 0.5433112989852686\n"
     ]
    }
   ],
   "source": [
    "#Apply multiple-linear regression and compare it to the linear model (\"sqft_living\",\"grade\"). \n",
    "\n",
    "x=df[[\"sqft_living\",\"grade\"]]  #we have more than one input\n",
    "y=df[\"price\"].values\n",
    "\n",
    "x_train,x_test,y_train,y_test=train_test_split(x,y,test_size=0.35,random_state=40) #splitting data with test size of 35%\n",
    "\n",
    "model=LinearRegression() #build linear regression model\n",
    "model.fit(x_train,y_train) #fitting the training data\n",
    "predicted=model.predict(x_test) #testing our model’s performance\n",
    "\n",
    "print(\"MSE\", mean_squared_error(y_test,predicted))\n",
    "print(\"R squared\", metrics.r2_score(y_test,predicted))\n"
   ]
  },
  {
   "cell_type": "code",
   "execution_count": 47,
   "id": "a941d693",
   "metadata": {},
   "outputs": [
    {
     "name": "stdout",
     "output_type": "stream",
     "text": [
      "MSE 56491826520.69129\n",
      "R squared 0.550644796847324\n"
     ]
    }
   ],
   "source": [
    "#Apply multiple-linear regression and compare it to the linear model (\"sqft_living\",\"grade\",\"sqft_above\"). \n",
    "\n",
    "x=df[[\"sqft_living\",\"grade\",\"sqft_above\"]]  #we have more than one input\n",
    "y=df[\"price\"].values\n",
    "\n",
    "x_train,x_test,y_train,y_test=train_test_split(x,y,test_size=0.35,random_state=40) #splitting data with test size of 35%\n",
    "\n",
    "model=LinearRegression() #build linear regression model\n",
    "model.fit(x_train,y_train) #fitting the training data\n",
    "predicted=model.predict(x_test) #testing our model’s performance\n",
    "\n",
    "print(\"MSE\", mean_squared_error(y_test,predicted))\n",
    "print(\"R squared\", metrics.r2_score(y_test,predicted))\n"
   ]
  },
  {
   "cell_type": "code",
   "execution_count": 52,
   "id": "43b35a55",
   "metadata": {},
   "outputs": [
    {
     "name": "stdout",
     "output_type": "stream",
     "text": [
      "MSE 56391021662.11875\n",
      "R squared 0.5514466329799554\n"
     ]
    }
   ],
   "source": [
    "#Apply multiple-linear regression and compare it to the linear model (\"sqft_living\",\"grade\",\"sqft_above\",\"sqft_living15\"). \n",
    "\n",
    "x=df[[\"sqft_living\",\"grade\",\"sqft_above\",\"sqft_living15\"]]  #we have more than one input\n",
    "y=df[\"price\"].values\n",
    "\n",
    "x_train,x_test,y_train,y_test=train_test_split(x,y,test_size=0.35,random_state=40) #splitting data with test size of 35%\n",
    "\n",
    "model=LinearRegression() #build linear regression model\n",
    "model.fit(x_train,y_train) #fitting the training data\n",
    "predicted=model.predict(x_test) #testing our model’s performance\n",
    "\n",
    "print(\"MSE\", mean_squared_error(y_test,predicted))\n",
    "print(\"R squared\", metrics.r2_score(y_test,predicted))\n"
   ]
  },
  {
   "cell_type": "code",
   "execution_count": 53,
   "id": "4d06f063",
   "metadata": {},
   "outputs": [
    {
     "name": "stdout",
     "output_type": "stream",
     "text": [
      "MSE 56262505729.60954\n",
      "R squared 0.5524688924202636\n"
     ]
    }
   ],
   "source": [
    "#Apply multiple-linear regression and compare it to the linear model (\"sqft_living\",\"grade\",\"sqft_above\",\"sqft_living15\",\"bathrooms\"). \n",
    "\n",
    "x=df[[\"sqft_living\",\"grade\",\"sqft_above\",\"sqft_living15\",\"bathrooms\"]]  #we have more than one input\n",
    "y=df[\"price\"].values\n",
    "\n",
    "x_train,x_test,y_train,y_test=train_test_split(x,y,test_size=0.35,random_state=40) #splitting data with test size of 35%\n",
    "\n",
    "model=LinearRegression() #build linear regression model\n",
    "model.fit(x_train,y_train) #fitting the training data\n",
    "predicted=model.predict(x_test) #testing our model’s performance\n",
    "\n",
    "print(\"MSE\", mean_squared_error(y_test,predicted))\n",
    "print(\"R squared\", metrics.r2_score(y_test,predicted))\n"
   ]
  },
  {
   "cell_type": "code",
   "execution_count": 54,
   "id": "de3bc45b",
   "metadata": {},
   "outputs": [
    {
     "name": "stdout",
     "output_type": "stream",
     "text": [
      "MSE 52329809274.13159\n",
      "R squared 0.5837508976859607\n"
     ]
    }
   ],
   "source": [
    "#Apply multiple-linear regression and compare it to the linear model (\"sqft_living\",\"grade\",\"sqft_above\",\"sqft_living15\",\"bathrooms\",\"view\"). \n",
    "\n",
    "x=df[[\"sqft_living\",\"grade\",\"sqft_above\",\"sqft_living15\",\"bathrooms\",\"view\"]]  #we have more than one input\n",
    "y=df[\"price\"].values\n",
    "\n",
    "x_train,x_test,y_train,y_test=train_test_split(x,y,test_size=0.35,random_state=40) #splitting data with test size of 35%\n",
    "\n",
    "model=LinearRegression() #build linear regression model\n",
    "model.fit(x_train,y_train) #fitting the training data\n",
    "predicted=model.predict(x_test) #testing our model’s performance\n",
    "\n",
    "print(\"MSE\", mean_squared_error(y_test,predicted))\n",
    "print(\"R squared\", metrics.r2_score(y_test,predicted))\n"
   ]
  },
  {
   "cell_type": "code",
   "execution_count": 56,
   "id": "9a1696bd",
   "metadata": {},
   "outputs": [
    {
     "name": "stdout",
     "output_type": "stream",
     "text": [
      "MSE 52338940967.37721\n",
      "R squared 0.5836782610918507\n"
     ]
    }
   ],
   "source": [
    "#Apply multiple-linear regression and compare it to the linear model (\"sqft_living\",\"grade\",\"sqft_above\",\"sqft_living15\", \"view\",\"sqft_basement\"). \n",
    "\n",
    "x=df[[\"sqft_living\",\"grade\",\"sqft_above\",\"sqft_living15\",\"bathrooms\",\"view\",\"sqft_basement\"]]  #we have more than one input\n",
    "y=df[\"price\"].values\n",
    "\n",
    "x_train,x_test,y_train,y_test=train_test_split(x,y,test_size=0.35,random_state=40) #splitting data with test size of 35%\n",
    "\n",
    "model=LinearRegression() #build linear regression model\n",
    "model.fit(x_train,y_train) #fitting the training data\n",
    "predicted=model.predict(x_test) #testing our model’s performance\n",
    "\n",
    "print(\"MSE\", mean_squared_error(y_test,predicted))\n",
    "print(\"R squared\", metrics.r2_score(y_test,predicted))\n"
   ]
  },
  {
   "cell_type": "markdown",
   "id": "4cd4487e",
   "metadata": {},
   "source": [
    "Adding best features alows to get better R squared with:\n",
    "\n",
    "\"sqft_living\",\"grade\",\"sqft_above\",\"sqft_living15\",\"bathrooms\" and \"view\""
   ]
  },
  {
   "cell_type": "code",
   "execution_count": 58,
   "id": "a22d9c4d",
   "metadata": {},
   "outputs": [
    {
     "name": "stdout",
     "output_type": "stream",
     "text": [
      "MSE:  44862944300.302376\n",
      "R squared:  0.6431448814510224\n"
     ]
    }
   ],
   "source": [
    "#Apply polynomial regression and compare it to linear and multilinear regression. \n",
    "from sklearn.linear_model import LinearRegression\n",
    "from sklearn.preprocessing import PolynomialFeatures \n",
    "\n",
    "# create matrix and vectors\n",
    "x= df[[\"sqft_living\",\"grade\",\"sqft_above\",\"sqft_living15\",\"bathrooms\",\"view\"]]\n",
    "y= df[\"price\"].values\n",
    "\n",
    "x_train, x_test, y_train, y_test = train_test_split(x, y, test_size=0.35, random_state=40)  #splitting data\n",
    "lg=LinearRegression()\n",
    "poly=PolynomialFeatures(degree=3)\n",
    "\n",
    "x_train_fit = poly.fit_transform(x_train) #transforming our input data\n",
    "lg.fit(x_train_fit, y_train)\n",
    "x_test_ = poly.fit_transform(x_test)\n",
    "predicted = lg.predict(x_test_)\n",
    "\n",
    "print(\"MSE: \", metrics.mean_squared_error(y_test, predicted))\n",
    "print(\"R squared: \", metrics.r2_score(y_test,predicted))\n"
   ]
  },
  {
   "cell_type": "markdown",
   "id": "fef5cfdb",
   "metadata": {},
   "source": [
    "using the best features (\"sqft_living\",\"grade\",\"sqft_above\",\"sqft_living15\",\"bathrooms\" and \"view\") for multilinear Model, polynomial regression gets better R squared."
   ]
  }
 ],
 "metadata": {
  "kernelspec": {
   "display_name": "Python 3 (ipykernel)",
   "language": "python",
   "name": "python3"
  },
  "language_info": {
   "codemirror_mode": {
    "name": "ipython",
    "version": 3
   },
   "file_extension": ".py",
   "mimetype": "text/x-python",
   "name": "python",
   "nbconvert_exporter": "python",
   "pygments_lexer": "ipython3",
   "version": "3.9.13"
  }
 },
 "nbformat": 4,
 "nbformat_minor": 5
}
